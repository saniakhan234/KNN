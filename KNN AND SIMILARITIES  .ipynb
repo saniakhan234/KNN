{
 "cells": [
  {
   "cell_type": "code",
   "execution_count": 6,
   "metadata": {},
   "outputs": [
    {
     "name": "stdout",
     "output_type": "stream",
     "text": [
      "Row IDs of 4 nearest neighbors:\n",
      "[0, 4, 2, 6]\n"
     ]
    }
   ],
   "source": [
    "\n",
    "import numpy as np\n",
    "\n",
    "def calculate_euclidean_distance(vec1, vec2):\n",
    "    euclidean_dist = np.sqrt(np.sum((vec1 - vec2) ** 2))\n",
    "    return euclidean_dist\n",
    "\n",
    "def sortkey(item):    \n",
    "    return item[1]\n",
    "\n",
    "def knearest(vec, data, k):\n",
    "    result = []\n",
    "    for row in range(0, len(data)):\n",
    "        distance = calculate_euclidean_distance(vec, data[row])  # Fixed the function name here\n",
    "        result.append([row, distance])\n",
    "    sortedResult = sorted(result, key=sortkey)\n",
    "    indices = []\n",
    "    if k < len(data):\n",
    "        for r in range(0, k):\n",
    "            indices.append(sortedResult[r][0])\n",
    "    else:            \n",
    "        indices = [i[0] for i in sortedResult]\n",
    "    return indices\n",
    "\n",
    "\n",
    "data = np.array([[10, 3, 3, 5, 10],\n",
    "                 [5, 4, 5, 3, 6],\n",
    "                 [10, 4, 6, 4, 9],\n",
    "                 [8, 6, 2, 6, 3],\n",
    "                 [10, 3, 3, 5, 8],                 \n",
    "                 [9, 2, 1, 2, 11],\n",
    "                 [9, 3, 1, 2, 11]])\n",
    "\n",
    "referenceVec = data[0]  # We will find knn of Row 0\n",
    "\n",
    "# Find 4 nearest neighbors of the reference vector\n",
    "k = 4\n",
    "knn = knearest(referenceVec, data, k)\n",
    "print(\"Row IDs of\", k, 'nearest neighbors:')\n",
    "print(knn)\n"
   ]
  },
  {
   "cell_type": "code",
   "execution_count": null,
   "metadata": {},
   "outputs": [],
   "source": [
    "#scikit-learn on Python already has a function for computing k-nearest neighbors more efficiently using special data structures such as the ball tree. Here is an example of how we may use the NearestNeighbors class to find the nearest neighbors"
   ]
  },
  {
   "cell_type": "code",
   "execution_count": 2,
   "metadata": {},
   "outputs": [
    {
     "name": "stdout",
     "output_type": "stream",
     "text": [
      "Row IDs of  4  nearest neighbors:\n",
      "[[0 4 2 6]]\n",
      "Distances of these  4  nearest neighbors:\n",
      "[[0.         2.         3.46410162 3.87298335]]\n"
     ]
    }
   ],
   "source": [
    "import numpy as np\n",
    "from sklearn.neighbors import NearestNeighbors\n",
    "\n",
    "data = np.array([[10,3,3,5,10],\n",
    "                  [5,4,5,3,6],\n",
    "                  [10,4,6,4,9],\n",
    "                  [8,6,2,6,3],\n",
    "                  [10,3,3,5,8],                 \n",
    "                  [9,2,1,2,11],\n",
    "                  [9,3,1,2,11]])\n",
    "\n",
    "k=4\n",
    "\n",
    "\n",
    "ReferenceVec=data[0]\n",
    "\n",
    "\n",
    "nbrs = NearestNeighbors(n_neighbors=k, algorithm='ball_tree').fit(data)\n",
    "distances, indices = nbrs.kneighbors([ReferenceVec])\n",
    "\n",
    "\n",
    "\n",
    "print(\"Row IDs of \", k, ' nearest neighbors:')\n",
    "print(indices)\n",
    "\n",
    "print(\"Distances of these \", k, ' nearest neighbors:')\n",
    "print(distances)"
   ]
  },
  {
   "cell_type": "code",
   "execution_count": 4,
   "metadata": {},
   "outputs": [
    {
     "name": "stdout",
     "output_type": "stream",
     "text": [
      "Jaccard similarity between rows  0 and 3 is\n",
      "0.6956521739130435\n",
      "Cosine similarity between rows  0 and 3 is\n",
      "0.9545807293526762\n",
      "Tanimoto similarity between rows  0 and 3 is\n",
      "0.9051094890510949\n"
     ]
    }
   ],
   "source": [
    "import numpy as np\n",
    "\n",
    "def jaccard (vec1, vec2):\n",
    "    minimum=[]\n",
    "    for i in range(0, len(vec1)):\n",
    "        minimum.append(min(vec1[i], vec2[i]))\n",
    "\n",
    "    maximums=[]\n",
    "    for i in range(0, len(vec1)):\n",
    "        maximums.append(max(vec1[i], vec2[i]))\n",
    "\n",
    "    j=sum(minimum)/sum(maximums)\n",
    "\n",
    "    return j\n",
    "\n",
    "def cosinesim(vec1, vec2):\n",
    "    numerator = np.dot(vec1,vec2)\n",
    "    v1norm= np.sqrt(sum(vec1**2))\n",
    "    v2norm= np.sqrt(sum(vec2**2))\n",
    "    c = numerator/(v1norm*v2norm) \n",
    "    return c\n",
    "\n",
    "def tanimotosim(vec1, vec2):\n",
    "    numerator = np.dot(vec1,vec2)\n",
    "    v1norm= (sum(vec1**2))\n",
    "    v2norm= (sum(vec2**2))\n",
    "    t = numerator/(v1norm+v2norm-numerator) \n",
    "    return t\n",
    "\n",
    "rawdata = [[10, 3, 3, 5],\n",
    "[12, 13, 20, 7],\n",
    "[1, 1, 2, 7],\n",
    "[8, 1, 2, 7],\n",
    "[2, 1, 2, 7], \n",
    "[10, 3, 3, 5]]\n",
    "\n",
    "data = np.array(rawdata)\n",
    "\n",
    "r1=0\n",
    "r2=3\n",
    "\n",
    "jacc = jaccard(data[r1], data[r2])\n",
    "print(\"Jaccard similarity between rows \", \\\n",
    "r1, \"and\",r2,\"is\")\n",
    "print(jacc)\n",
    "\n",
    "cos = cosinesim(data[r1], data[r2])\n",
    "print(\"Cosine similarity between rows \", \\\n",
    "r1, \"and\",r2,\"is\")\n",
    "print(cos)\n",
    "\n",
    "tanimoto = tanimotosim(data[r1], data[r2])\n",
    "print(\"Tanimoto similarity between rows \", \\\n",
    "r1, \"and\",r2,\"is\")\n",
    "print(tanimoto)"
   ]
  }
 ],
 "metadata": {
  "kernelspec": {
   "display_name": "Python 3",
   "language": "python",
   "name": "python3"
  },
  "language_info": {
   "codemirror_mode": {
    "name": "ipython",
    "version": 3
   },
   "file_extension": ".py",
   "mimetype": "text/x-python",
   "name": "python",
   "nbconvert_exporter": "python",
   "pygments_lexer": "ipython3",
   "version": "3.10.7"
  },
  "orig_nbformat": 4
 },
 "nbformat": 4,
 "nbformat_minor": 2
}
